{
 "cells": [
  {
   "cell_type": "markdown",
   "metadata": {},
   "source": [
    "## import  all module "
   ]
  },
  {
   "cell_type": "code",
   "execution_count": 1,
   "metadata": {},
   "outputs": [],
   "source": [
    "import pandas as pd\n",
    "from sklearn.model_selection import train_test_split\n",
    "from sklearn.metrics import precision_score, recall_score,f1_score, confusion_matrix,accuracy_score\n",
    "from sklearn.pipeline import make_pipeline\n",
    "from sklearn.ensemble import RandomForestClassifier\n",
    "from sklearn.preprocessing import StandardScaler, OneHotEncoder\n",
    "from sklearn.compose import ColumnTransformer, make_column_transformer\n"
   ]
  },
  {
   "cell_type": "code",
   "execution_count": 2,
   "metadata": {},
   "outputs": [],
   "source": [
    "#read data\n",
    "df=pd.read_excel(\"/users/macofa/pythonassignment5/CC-3Y-Transactions.xlsx\")\n",
    "#change index \n",
    "df.index=pd.to_datetime(df[\"Date\"],unit='ms')\n",
    "del df[\"Date\"]"
   ]
  },
  {
   "cell_type": "code",
   "execution_count": 3,
   "metadata": {},
   "outputs": [
    {
     "name": "stdout",
     "output_type": "stream",
     "text": [
      "                             City  Card Type Exp Type Gender  Amount\n",
      "Date                                                                \n",
      "2014-10-29           Delhi, India       Gold    Bills      F   82475\n",
      "2014-08-22  Greater Mumbai, India   Platinum    Bills      F   32555\n",
      "2014-08-27       Bengaluru, India     Silver    Bills      F  101738\n",
      "2014-04-12  Greater Mumbai, India  Signature    Bills      F  123424\n",
      "2015-05-05       Bengaluru, India       Gold    Bills      F  171574\n"
     ]
    }
   ],
   "source": [
    "print(df.head())"
   ]
  },
  {
   "cell_type": "code",
   "execution_count": 4,
   "metadata": {},
   "outputs": [
    {
     "name": "stdout",
     "output_type": "stream",
     "text": [
      "<class 'pandas.core.frame.DataFrame'>\n",
      "DatetimeIndex: 26052 entries, 2014-10-29 to 2013-10-19\n",
      "Data columns (total 5 columns):\n",
      " #   Column     Non-Null Count  Dtype \n",
      "---  ------     --------------  ----- \n",
      " 0   City       26052 non-null  object\n",
      " 1   Card Type  26052 non-null  object\n",
      " 2   Exp Type   26052 non-null  object\n",
      " 3   Gender     26052 non-null  object\n",
      " 4   Amount     26052 non-null  int64 \n",
      "dtypes: int64(1), object(4)\n",
      "memory usage: 1.2+ MB\n",
      "Info None\n"
     ]
    }
   ],
   "source": [
    "print(\"Info\", df.info())"
   ]
  },
  {
   "cell_type": "code",
   "execution_count": 5,
   "metadata": {},
   "outputs": [
    {
     "name": "stdout",
     "output_type": "stream",
     "text": [
      "Number of Nodata (NaN)  City         0\n",
      "Card Type    0\n",
      "Exp Type     0\n",
      "Gender       0\n",
      "Amount       0\n",
      "dtype: int64\n"
     ]
    }
   ],
   "source": [
    "#df.dropna(subset=\"Amount\",inplace=True)\n",
    "print(\"Number of Nodata (NaN) \", df.isna().sum())"
   ]
  },
  {
   "cell_type": "code",
   "execution_count": 6,
   "metadata": {},
   "outputs": [],
   "source": [
    "df[\"DayNumber\"]=df.index.dayofweek"
   ]
  },
  {
   "cell_type": "code",
   "execution_count": 7,
   "metadata": {},
   "outputs": [
    {
     "name": "stderr",
     "output_type": "stream",
     "text": [
      "<ipython-input-7-fe8856b68d90>:4: SettingWithCopyWarning: \n",
      "A value is trying to be set on a copy of a slice from a DataFrame\n",
      "\n",
      "See the caveats in the documentation: https://pandas.pydata.org/pandas-docs/stable/user_guide/indexing.html#returning-a-view-versus-a-copy\n",
      "  df[\"Fraud\"][df.index.dayofweek==6]=1\n"
     ]
    }
   ],
   "source": [
    "#First create a column  named Fraud\n",
    "df[\"Fraud\"]=0\n",
    "# the number of Day of Week is 6 , that day is Sunday , it is not  possible to do Transaction\n",
    "df[\"Fraud\"][df.index.dayofweek==6]=1"
   ]
  },
  {
   "cell_type": "code",
   "execution_count": 8,
   "metadata": {},
   "outputs": [
    {
     "name": "stdout",
     "output_type": "stream",
     "text": [
      " No Fraud  Detection Cases\n",
      "----------------------\n",
      "count     22240.000000\n",
      "mean     156406.834802\n",
      "std      102731.259585\n",
      "min        1005.000000\n",
      "25%       77111.000000\n",
      "50%      153555.500000\n",
      "75%      228044.750000\n",
      "max      998077.000000\n",
      "Name: Amount, dtype: float64 \n",
      "\n",
      "Fraud  Detection Cases\n",
      "----------------------\n",
      "count      3812.000000\n",
      "mean     156438.973505\n",
      "std      104992.933718\n",
      "min        1026.000000\n",
      "25%       77275.500000\n",
      "50%      150321.500000\n",
      "75%      228091.750000\n",
      "max      996754.000000\n",
      "Name: Amount, dtype: float64 \n",
      "\n"
     ]
    }
   ],
   "source": [
    "#Check for imbalance in data\n",
    "Fraud= df[df['Fraud'] == 1]\n",
    "NoFraud = df[df['Fraud'] == 0]\n",
    "print(\" No Fraud  Detection Cases\")\n",
    "print(\"----------------------\")\n",
    "print(NoFraud.Amount.describe(),\"\\n\")\n",
    "#True Detection Cases\n",
    "print(\"Fraud  Detection Cases\")\n",
    "print(\"----------------------\")\n",
    "print(Fraud.Amount.describe(),\"\\n\")"
   ]
  },
  {
   "cell_type": "code",
   "execution_count": 9,
   "metadata": {},
   "outputs": [
    {
     "name": "stdout",
     "output_type": "stream",
     "text": [
      "(26052, 6)\n",
      "(26052,)\n"
     ]
    }
   ],
   "source": [
    "# Select all columns except the last for all rows\n",
    "feature_cols=['City', 'Card Type', 'Exp Type', 'Gender', 'Amount', \"DayNumber\"]\n",
    "X = df[feature_cols]\n",
    "# Select the last column of all rows\n",
    "Y = df['Fraud']\n",
    "\n",
    "print(X.values.shape)\n",
    "print(Y.values.shape)"
   ]
  },
  {
   "cell_type": "code",
   "execution_count": 10,
   "metadata": {},
   "outputs": [],
   "source": [
    "#train_test_split method 80% for calibration  20 % for validation\n",
    "X_train, X_test, Y_train, Y_test = train_test_split(X, Y, test_size=0.2)"
   ]
  },
  {
   "cell_type": "code",
   "execution_count": 11,
   "metadata": {},
   "outputs": [],
   "source": [
    "#convert category to codes\n",
    "preprocess = make_column_transformer((OneHotEncoder(handle_unknown='ignore'),['City', 'Card Type', 'Exp Type', 'Gender' , \"DayNumber\"]),\n",
    "                                      (StandardScaler(), [\"Amount\"]))\n"
   ]
  },
  {
   "cell_type": "code",
   "execution_count": 12,
   "metadata": {},
   "outputs": [
    {
     "data": {
      "text/plain": [
       "Pipeline(steps=[('columntransformer',\n",
       "                 ColumnTransformer(transformers=[('onehotencoder',\n",
       "                                                  OneHotEncoder(handle_unknown='ignore'),\n",
       "                                                  ['City', 'Card Type',\n",
       "                                                   'Exp Type', 'Gender',\n",
       "                                                   'DayNumber']),\n",
       "                                                 ('standardscaler',\n",
       "                                                  StandardScaler(),\n",
       "                                                  ['Amount'])])),\n",
       "                ('randomforestclassifier',\n",
       "                 RandomForestClassifier(random_state=0))])"
      ]
     },
     "execution_count": 12,
     "metadata": {},
     "output_type": "execute_result"
    }
   ],
   "source": [
    "#model Classifier\n",
    "classifier = make_pipeline(\n",
    "    preprocess,\n",
    "    RandomForestClassifier( random_state=0))\n",
    "classifier.fit(X_train,Y_train)"
   ]
  },
  {
   "cell_type": "code",
   "execution_count": 13,
   "metadata": {},
   "outputs": [
    {
     "name": "stdout",
     "output_type": "stream",
     "text": [
      "\n",
      "predicted values :\n",
      " [1 0 0 ... 0 0 1]\n"
     ]
    }
   ],
   "source": [
    "predicted=classifier.predict(X_test)\n",
    "print(\"\\npredicted values :\\n\",predicted)"
   ]
  },
  {
   "cell_type": "code",
   "execution_count": 14,
   "metadata": {},
   "outputs": [
    {
     "name": "stdout",
     "output_type": "stream",
     "text": [
      " confusion matrix \n",
      "[[4469    0]\n",
      " [   0  742]]\n"
     ]
    }
   ],
   "source": [
    "print(\" confusion matrix \")\n",
    "cf=confusion_matrix(Y_test, predicted)\n",
    "print(cf)"
   ]
  },
  {
   "cell_type": "code",
   "execution_count": 15,
   "metadata": {},
   "outputs": [
    {
     "name": "stdout",
     "output_type": "stream",
     "text": [
      "\n",
      "The accuracy score  :  100.0\n"
     ]
    }
   ],
   "source": [
    "# #Overall Accuracy\n",
    "OA = accuracy_score(Y_test, predicted) * 100\n",
    "print(\"\\nThe accuracy score  : \",OA)\n",
    "#"
   ]
  },
  {
   "cell_type": "code",
   "execution_count": 16,
   "metadata": {},
   "outputs": [
    {
     "name": "stdout",
     "output_type": "stream",
     "text": [
      "precision\n",
      "1.0\n"
     ]
    }
   ],
   "source": [
    "# #Precision\n",
    "print('precision')\n",
    "# Precision = TP / (TP + FP) (Where TP = True Positive, TN = True Negative, FP = F\n",
    "precision = precision_score(Y_test, predicted, pos_label=1)\n",
    "print(precision)"
   ]
  },
  {
   "cell_type": "code",
   "execution_count": 17,
   "metadata": {},
   "outputs": [
    {
     "name": "stdout",
     "output_type": "stream",
     "text": [
      "recall\n",
      "1.0\n"
     ]
    }
   ],
   "source": [
    "#Recall\n",
    "print('recall')\n",
    "# Recall = TP / (TP + FN)\n",
    "recall = recall_score(Y_test, predicted, pos_label=1)\n",
    "print(recall)"
   ]
  }
 ],
 "metadata": {
  "kernelspec": {
   "display_name": "Python 3",
   "language": "python",
   "name": "python3"
  },
  "language_info": {
   "codemirror_mode": {
    "name": "ipython",
    "version": 3
   },
   "file_extension": ".py",
   "mimetype": "text/x-python",
   "name": "python",
   "nbconvert_exporter": "python",
   "pygments_lexer": "ipython3",
   "version": "3.8.5"
  }
 },
 "nbformat": 4,
 "nbformat_minor": 2
}
